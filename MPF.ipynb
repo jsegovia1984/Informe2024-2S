{
  "nbformat": 4,
  "nbformat_minor": 0,
  "metadata": {
    "colab": {
      "provenance": [],
      "include_colab_link": true
    },
    "kernelspec": {
      "name": "python3",
      "display_name": "Python 3"
    },
    "language_info": {
      "name": "python"
    }
  },
  "cells": [
    {
      "cell_type": "markdown",
      "metadata": {
        "id": "view-in-github",
        "colab_type": "text"
      },
      "source": [
        "<a href=\"https://colab.research.google.com/github/jsegovia1984/Informe2024-2S/blob/main/MPF.ipynb\" target=\"_parent\"><img src=\"https://colab.research.google.com/assets/colab-badge.svg\" alt=\"Open In Colab\"/></a>"
      ]
    },
    {
      "cell_type": "code",
      "execution_count": 4,
      "metadata": {
        "colab": {
          "base_uri": "https://localhost:8080/"
        },
        "id": "Jl3T9FBKi2e9",
        "outputId": "43edd145-9098-40f4-ab38-817177da38c9",
        "collapsed": true
      },
      "outputs": [
        {
          "output_type": "stream",
          "name": "stdout",
          "text": [
            "Requirement already satisfied: pandas in /usr/local/lib/python3.10/dist-packages (2.2.2)\n",
            "Requirement already satisfied: openpyxl in /usr/local/lib/python3.10/dist-packages (3.1.5)\n",
            "Requirement already satisfied: numpy>=1.22.4 in /usr/local/lib/python3.10/dist-packages (from pandas) (1.26.4)\n",
            "Requirement already satisfied: python-dateutil>=2.8.2 in /usr/local/lib/python3.10/dist-packages (from pandas) (2.8.2)\n",
            "Requirement already satisfied: pytz>=2020.1 in /usr/local/lib/python3.10/dist-packages (from pandas) (2024.2)\n",
            "Requirement already satisfied: tzdata>=2022.7 in /usr/local/lib/python3.10/dist-packages (from pandas) (2024.2)\n",
            "Requirement already satisfied: et-xmlfile in /usr/local/lib/python3.10/dist-packages (from openpyxl) (2.0.0)\n",
            "Requirement already satisfied: six>=1.5 in /usr/local/lib/python3.10/dist-packages (from python-dateutil>=2.8.2->pandas) (1.17.0)\n",
            "Drive already mounted at /content/drive/; to attempt to forcibly remount, call drive.mount(\"/content/drive/\", force_remount=True).\n",
            "1_Vistas_Ingresadas_Evacuadas.xlsx  MPF.ipynb  unificado.xlsx\n"
          ]
        }
      ],
      "source": [
        "!pip install pandas openpyxl\n",
        "import pandas as pd\n",
        "from google.colab import drive\n",
        "drive.mount('/content/drive/')\n",
        "!ls \"/content/drive/My Drive/MPF\"\n",
        "filename = '/content/drive/My Drive/MPF/1_Vistas_Ingresadas_Evacuadas.xlsx'\n",
        "df = pd.read_excel(filename, engine='openpyxl').sort_values(by='Orden', ascending=True)\n"
      ]
    },
    {
      "cell_type": "code",
      "source": [
        "print(df.columns)\n"
      ],
      "metadata": {
        "colab": {
          "base_uri": "https://localhost:8080/"
        },
        "id": "z9XVJmo9uzrC",
        "outputId": "d1f2f530-3ddf-4cae-d82b-7bb84eacfe4b"
      },
      "execution_count": 5,
      "outputs": [
        {
          "output_type": "stream",
          "name": "stdout",
          "text": [
            "Index(['Orden', 'Semestre', 'Provincia', 'Jurisdicción', 'Fuero', 'Instancia',\n",
            "       'Código', 'Dependencia', 'Materia', 'Vistas Ingresadas'],\n",
            "      dtype='object')\n"
          ]
        }
      ]
    },
    {
      "cell_type": "markdown",
      "source": [
        "# Cantidad de Vistas Ingresadas en los ultimos 3 semestres  - Pagina 25"
      ],
      "metadata": {
        "id": "WNSr_wGCDeZH"
      }
    },
    {
      "cell_type": "code",
      "source": [
        "\n",
        "# Agrupa por Semestre y suma las vistas ingresadas\n",
        "vistas_semestres = df.groupby('Orden')['Vistas Ingresadas'].sum().astype(int)\n",
        "#vistas_semestres = vistas_semestres.sort_index()\n",
        "vistas_semestres_pivot = vistas_semestres.to_frame() # Convierte a DataFrame\n",
        "vistas_semestres_pivot.columns = [''] # Cambia el nombre de columna a vacío# Convierte el resultado a un DataFrame con los semestres como columnas\n",
        "vistas_semestres_pivot = vistas_semestres.to_frame().T  # Transpone el DataFrame\n",
        "# Elimina el índice para que no aparezca como la primera columna\n",
        "\n",
        "vistas_semestres_pivot.index = ['']\n",
        "# Estilo para añadir un título que ocupe todas las columnas\n",
        "vistas_semestres_styled = vistas_semestres_pivot.style.set_caption(\"**Vistas Ingresadas por Semestre**\")\\\n",
        "    .set_table_styles([\n",
        "    {'selector': 'th.col_heading', 'props': 'text-align: center; font-weight: bold; border: 1px solid black;'},\n",
        "        {'selector': 'thead th', 'props': 'text-align: center; font-weight: bold; border: 1px solid black;'},\n",
        "        {'selector': 'table', 'props': 'width: 100%; border-collapse: collapse;'},  # Use collapse instead of solid\n",
        "        {'selector': 'caption', 'props': 'text-align: center; font-size: 1.2em; font-weight: bold;'},\n",
        "        {'selector': 'td', 'props': 'border: 1px solid black;'} # Add border to table cells\n",
        "\n",
        "    ])\\\n",
        "    .set_properties(**{'text-align': 'center'})\n",
        "\n",
        "\n",
        "vistas_semestres_styled.to_excel('1_vistas_ingresadas_3_semestres.xlsx', index=False)\n",
        "vistas_semestres_styled\n",
        "\n"
      ],
      "metadata": {
        "colab": {
          "base_uri": "https://localhost:8080/",
          "height": 125
        },
        "id": "ivfLvlbFDdOr",
        "outputId": "70c63244-55bc-4d48-c160-5c2f3ffafc56"
      },
      "execution_count": 6,
      "outputs": [
        {
          "output_type": "execute_result",
          "data": {
            "text/plain": [
              "<pandas.io.formats.style.Styler at 0x7f39ddb23070>"
            ],
            "text/html": [
              "<style type=\"text/css\">\n",
              "#T_04b1a th.col_heading {\n",
              "  text-align: center;\n",
              "  font-weight: bold;\n",
              "  border: 1px solid black;\n",
              "}\n",
              "#T_04b1a thead th {\n",
              "  text-align: center;\n",
              "  font-weight: bold;\n",
              "  border: 1px solid black;\n",
              "}\n",
              "#T_04b1a table {\n",
              "  width: 100%;\n",
              "  border-collapse: collapse;\n",
              "}\n",
              "#T_04b1a caption {\n",
              "  text-align: center;\n",
              "  font-size: 1.2em;\n",
              "  font-weight: bold;\n",
              "}\n",
              "#T_04b1a td {\n",
              "  border: 1px solid black;\n",
              "}\n",
              "#T_04b1a_row0_col0, #T_04b1a_row0_col1, #T_04b1a_row0_col2 {\n",
              "  text-align: center;\n",
              "}\n",
              "</style>\n",
              "<table id=\"T_04b1a\" class=\"dataframe\">\n",
              "  <caption>**Vistas Ingresadas por Semestre**</caption>\n",
              "  <thead>\n",
              "    <tr>\n",
              "      <th class=\"index_name level0\" >Orden</th>\n",
              "      <th id=\"T_04b1a_level0_col0\" class=\"col_heading level0 col0\" >1</th>\n",
              "      <th id=\"T_04b1a_level0_col1\" class=\"col_heading level0 col1\" >2</th>\n",
              "      <th id=\"T_04b1a_level0_col2\" class=\"col_heading level0 col2\" >3</th>\n",
              "    </tr>\n",
              "  </thead>\n",
              "  <tbody>\n",
              "    <tr>\n",
              "      <th id=\"T_04b1a_level0_row0\" class=\"row_heading level0 row0\" ></th>\n",
              "      <td id=\"T_04b1a_row0_col0\" class=\"data row0 col0\" >102543</td>\n",
              "      <td id=\"T_04b1a_row0_col1\" class=\"data row0 col1\" >111569</td>\n",
              "      <td id=\"T_04b1a_row0_col2\" class=\"data row0 col2\" >113409</td>\n",
              "    </tr>\n",
              "  </tbody>\n",
              "</table>\n"
            ]
          },
          "metadata": {},
          "execution_count": 6
        }
      ]
    },
    {
      "cell_type": "code",
      "source": [
        "\n",
        "import matplotlib.pyplot as plt\n",
        "\n",
        "# Datos de ejemplo (reemplaza con tus datos reales)\n",
        "semestres = vistas_semestres.index\n",
        "vistas = vistas_semestres.values\n",
        "\n",
        "# Colores pastel\n",
        "colores = ['#FFB6C1', '#ADD8E6', '#90EE90']\n",
        "\n",
        "# Crear el gráfico de barras\n",
        "plt.figure(figsize=(8, 6))  # Ajusta el tamaño de la figura si es necesario\n",
        "plt.bar(semestres, vistas, color=colores)\n",
        "\n",
        "# Personalizar el gráfico\n",
        "plt.ylabel('Cantidad de Vistas Ingresadas')\n",
        "plt.title('Vistas Ingresadas en los ultimos 3 Semestres')\n",
        "plt.xticks(rotation=0, ha='right')  # Rotar las etiquetas del eje x para mayor legibilidad\n",
        "\n",
        "# Mostrar el gráfico\n",
        "plt.tight_layout() # Ajusta el gráfico para que no se corte\n",
        "plt.show()"
      ],
      "metadata": {
        "colab": {
          "base_uri": "https://localhost:8080/",
          "height": 607
        },
        "id": "VcJNDeodvzyj",
        "outputId": "32c9b4db-14b0-4e33-ef0a-0f245c2c84aa"
      },
      "execution_count": 7,
      "outputs": [
        {
          "output_type": "display_data",
          "data": {
            "text/plain": [
              "<Figure size 800x600 with 1 Axes>"
            ],
            "image/png": "[encoded data removed]"
          },
          "metadata": {}
        }
      ]
    },
    {
      "cell_type": "code",
      "source": [
        "# funcion para crear las tablas y sus variaciones semestrales\n",
        "\n",
        "def tabla(pivot_table,name):\n",
        "    all_semestres = df['Semestre'].unique()\n",
        "\n",
        "    latest_semester = all_semestres[-1]\n",
        "    pivot_table['Total'] = pivot_table[latest_semester]\n",
        "\n",
        "    variacion_df = pivot_table.apply(lambda row: ((row[latest_semester]- row)/ row*100 ), axis=1).round(0)\n",
        "    variacion_df = variacion_df.drop(columns=[latest_semester, 'Total'])  # Remove latest semester and Total from variation\n",
        "    variacion_df = variacion_df.add_suffix(' (%)')  # Add \"%\" to column names\n",
        "\n",
        "    final_table = pd.concat([pivot_table[['Total']], variacion_df], axis=1)\n",
        "\n",
        "    final_table = final_table.sort_values(by=['Total'], ascending=False)\n",
        "\n",
        "    total_general_row = pd.DataFrame({'Total': [final_table['Total'].sum()]}, index=['Total General'])\n",
        "\n",
        "    final_table = pd.concat([final_table, total_general_row])\n",
        "\n",
        "\n",
        "    cols = list(final_table.columns)\n",
        "    cols[-2], cols[-1] = cols[-1], cols[-2]\n",
        "    final_table = final_table[cols]\n",
        "\n",
        "    final_table.to_excel(name)\n",
        "# Display the table\n",
        "    print(final_table.to_string())"
      ],
      "metadata": {
        "id": "df0OWucVDgMB"
      },
      "execution_count": 8,
      "outputs": []
    },
    {
      "cell_type": "markdown",
      "source": [
        "**VISTAS INGRASADAS POR JURISDICCION** Pagina 26"
      ],
      "metadata": {
        "id": "rkQu0o8ucw0m"
      }
    },
    {
      "cell_type": "code",
      "source": [
        "all_semestres_data = df.groupby(['Jurisdicción', 'Semestre'])['Vistas Ingresadas'].sum().reset_index()\n",
        "#print(all_semestres_data)\n",
        "\n",
        "pivot_table = all_semestres_data.pivot(index='Jurisdicción', columns='Semestre', values='Vistas Ingresadas').fillna(0)\n",
        "\n",
        "tabla(pivot_table,'2_vistas_por_jurisficcion_distrito.xlsx')\n"
      ],
      "metadata": {
        "colab": {
          "base_uri": "https://localhost:8080/"
        },
        "id": "Lfm9mcVRmJ9g",
        "outputId": "70796a82-f74e-4b3b-d171-40b5f6017d4b"
      },
      "execution_count": 9,
      "outputs": [
        {
          "output_type": "stream",
          "name": "stdout",
          "text": [
            "                     Total  2° Sem. 2023 (%)  1° Sem. 2023 (%)\n",
            "CABA                 80927              -2.0               9.0\n",
            "Córdoba               4209              12.0              11.0\n",
            "Rosario               3927               7.0              -3.0\n",
            "La Plata              3701              16.0              20.0\n",
            "Mendoza               3571              37.0              59.0\n",
            "San Martín            3445              -1.0              17.0\n",
            "General Roca          2076              -2.0              12.0\n",
            "Salta                 1922               9.0               9.0\n",
            "Mar del Plata         1907              24.0              31.0\n",
            "Bahía Blanca          1722               2.0              26.0\n",
            "Comodoro Rivadavia    1673              -5.0              20.0\n",
            "Paraná                1557              27.0              11.0\n",
            "Tucumán               1417              50.0              26.0\n",
            "Posadas                573              14.0             -29.0\n",
            "Corrientes             423              67.0              41.0\n",
            "Resistencia            359             -26.0             -37.0\n",
            "Total General       113409               NaN               NaN\n"
          ]
        }
      ]
    },
    {
      "cell_type": "code",
      "source": [
        "\n",
        "\n",
        "all_semestres_data = df.groupby(['Provincia', 'Semestre'])['Vistas Ingresadas'].sum().reset_index()\n",
        "#print(all_semestres_data)\n",
        "\n",
        "pivot_table = all_semestres_data.pivot(index='Provincia', columns='Semestre', values='Vistas Ingresadas').fillna(0)\n",
        "\n",
        "tabla(pivot_table,'3_vistas_por_Provincia.xlsx')\n",
        "\n"
      ],
      "metadata": {
        "colab": {
          "base_uri": "https://localhost:8080/"
        },
        "id": "icvsyqV75K76",
        "outputId": "855344e3-906a-4538-e94f-ca4ddad0aaca"
      },
      "execution_count": 10,
      "outputs": [
        {
          "output_type": "stream",
          "name": "stdout",
          "text": [
            "                                  Total  2° Sem. 2023 (%)  1° Sem. 2023 (%)\n",
            "Ciudad Autonoma de Buenos Aires   80927              -2.0               9.0\n",
            "Buenos Aires                      10760               9.0              21.0\n",
            "Cordoba                            4077              10.0              11.0\n",
            "Santa Fe                           3800               4.0              -1.0\n",
            "Mendoza                            1873              49.0              38.0\n",
            "Salta                              1575              13.0              11.0\n",
            "Entre Rios                         1557              27.0              11.0\n",
            "San Juan                           1418              30.0             119.0\n",
            "Rio Negro                          1090             -26.0               9.0\n",
            "Neuquen                             986              51.0              15.0\n",
            "Tucuman                             897              75.0              20.0\n",
            "Chubut                              838             -21.0              18.0\n",
            "Misiones                            573              14.0             -29.0\n",
            "Santa Cruz                          449              38.0              15.0\n",
            "Corrientes                          423              67.0              41.0\n",
            "Tierra del Fuego                    386               5.0              32.0\n",
            "Santiago del Estero                 353             -10.0              -7.0\n",
            "Jujuy                               347              -6.0               2.0\n",
            "San Luis                            280               3.0              16.0\n",
            "La Pampa                            228               8.0             -11.0\n",
            "Formosa                             213             -21.0             -46.0\n",
            "Catamarca                           167             328.0               inf\n",
            "La Rioja                            132             149.0              38.0\n",
            "Chaco                                60             -33.0             -18.0\n",
            "Total General                    113409               NaN               NaN\n"
          ]
        }
      ]
    },
    {
      "cell_type": "markdown",
      "source": [
        "**VISTAS INGRESADAS POR PROVINCIA** Pagina 28"
      ],
      "metadata": {
        "id": "dUMJFYxhc_H5"
      }
    },
    {
      "cell_type": "markdown",
      "source": [
        "**Vistas Ingreadas CABA por Fuero** Pagina 29"
      ],
      "metadata": {
        "id": "fAuhQVmuvEoc"
      }
    },
    {
      "cell_type": "code",
      "source": [
        "\n",
        "all_semestres_data = df[df['Jurisdicción'] == 'CABA'].groupby(['Fuero', 'Semestre'])['Vistas Ingresadas'].sum().reset_index()\n",
        "\n",
        "pivot_table = all_semestres_data.pivot(index='Fuero', columns='Semestre', values='Vistas Ingresadas').fillna(0)\n",
        "\n",
        "name = '4_vistas_por_Fuero.xlsx'\n",
        "tabla(pivot_table,name)\n"
      ],
      "metadata": {
        "colab": {
          "base_uri": "https://localhost:8080/"
        },
        "id": "cpsRiAsu9n_-",
        "outputId": "3d314fdb-e248-456c-ba2a-41da84936afb"
      },
      "execution_count": 11,
      "outputs": [
        {
          "output_type": "stream",
          "name": "stdout",
          "text": [
            "                                Total  2° Sem. 2023 (%)  1° Sem. 2023 (%)\n",
            "Nac. Civ. y Com.                37567              -4.0              14.0\n",
            "Fed. Civ., Com. y Cont. Admin.  22511               9.0              32.0\n",
            "Fed. de la Seg. Social          11212              -5.0             -20.0\n",
            "Nac. de Trabajo                  8557             -13.0              -7.0\n",
            "Electoral                        1080               1.0               5.0\n",
            "Total General                   80927               NaN               NaN\n"
          ]
        }
      ]
    },
    {
      "cell_type": "markdown",
      "source": [
        "# Vistas Ingresadas por dependencia Agrupadas por Jurisficcion\n",
        "Bahia Blanca - Pagina 31"
      ],
      "metadata": {
        "id": "FmadFK3qFTQU"
      }
    },
    {
      "cell_type": "code",
      "source": [
        "jurisdicciones_interior = df[df['Jurisdicción'] != 'CABA']\n",
        "Jurisdicciones = jurisdicciones_interior['Jurisdicción'].unique()\n",
        "\n",
        "for jurisdiccion in Jurisdicciones:\n",
        "    all_semestres_data = df[df['Jurisdicción'] == jurisdiccion].groupby(['Semestre','Dependencia'])['Vistas Ingresadas'].sum().reset_index()\n",
        "    pivot_table = all_semestres_data.pivot(index='Dependencia', columns='Semestre', values='Vistas Ingresadas').fillna(0)\n",
        "    name = f'{jurisdiccion}_vistas_ingresadas.xlsx'\n",
        "    print()\n",
        "    print(jurisdiccion)\n",
        "    tabla(pivot_table,name)\n",
        "    print(\"-\"*100)"
      ],
      "metadata": {
        "id": "QZCtpv-gmXvg",
        "colab": {
          "base_uri": "https://localhost:8080/"
        },
        "outputId": "40776b11-8779-48f7-81d7-a43b0ccfaf7e"
      },
      "execution_count": 12,
      "outputs": [
        {
          "output_type": "stream",
          "name": "stdout",
          "text": [
            "\n",
            "Rosario\n",
            "                                                     Total  2° Sem. 2023 (%)  1° Sem. 2023 (%)\n",
            "Fisc. Fed. Nº 1 de Santa Fe                          852.0               5.0              -3.0\n",
            "Unidad Fiscal Rosario                                517.0               inf               inf\n",
            "Unidad Fiscal Santa Fe                               442.0               inf               inf\n",
            "Fisc. Fed. Nº 3 de Rosario                           438.0             -51.0             -50.0\n",
            "Fisc. Fed. Nº 2 de Rosario                           408.0              10.0             -30.0\n",
            "Fisc. Fed. Nº 2 de Santa Fe                          380.0             -30.0             -18.0\n",
            "Fisc. Fed. Nº 1 de Rosario                           282.0             -49.0             -56.0\n",
            "Fisc. Fed. de Rafaela                                252.0              -4.0              12.0\n",
            "Fisc. Fed. de San Nicolás                            141.0              -6.0             -56.0\n",
            "Sede Fiscal Descent. de Rafaela                       83.0               inf               inf\n",
            "Sede Fiscal Descent. de San Nicolás de los Arroyos    72.0               inf               inf\n",
            "Fisc. Fed. de Venado Tuerto                           27.0             -29.0             -18.0\n",
            "Fisc. Gral. ante la Cám. Fed. de Apel. de Rosario     25.0             -56.0              32.0\n",
            "Sede Fiscal Descent. de Venado Tuerto                  8.0               inf               inf\n",
            "Total General                                       3927.0               NaN               NaN\n",
            "----------------------------------------------------------------------------------------------------\n",
            "\n",
            "Mar del Plata\n",
            "                                                         Total  2° Sem. 2023 (%)  1° Sem. 2023 (%)\n",
            "Fisc. Fed. Nº 2 de Mar del Plata                           667              50.0              57.0\n",
            "Fisc. Fed. Nº 1 de Mar del Plata                           579              28.0              33.0\n",
            "Fisc. Fed. de Dolores                                      246               3.0              32.0\n",
            "Fisc. Fed. Nº 1 de Azul                                    148             -11.0              20.0\n",
            "Fisc. Fed. de Necochea                                     125             -14.0              -7.0\n",
            "Fisc. Fed. Nº 2 de Azul (Tandil)                           102              38.0              -5.0\n",
            "Fisc. Gral. ante la Cám. Fed. de Apel. de Mar del Plata     40              74.0               0.0\n",
            "Total General                                             1907               NaN               NaN\n",
            "----------------------------------------------------------------------------------------------------\n",
            "\n",
            "La Plata\n",
            "                                                    Total  2° Sem. 2023 (%)  1° Sem. 2023 (%)\n",
            "Fisc. Fed. Nº 2 de La Plata                          1246              -5.0              11.0\n",
            "Fisc. Fed. de Quilmes                                 964              40.0              56.0\n",
            "Fisc. Fed. Nº 2 de Lomas de Zamora                    473             100.0              88.0\n",
            "Fisc. Fed. Nº 1 de Lomas de Zamora                    296              -0.0              54.0\n",
            "Fisc. Fed. de Junín                                   270             -12.0             -26.0\n",
            "Fisc. Fed. Nº 1 de La Plata                           228              57.0             -23.0\n",
            "Fisc. Fed. de Pehuajó                                 118              -3.0             -31.0\n",
            "Fisc. Gral. ante la Cám. Fed. de Apel. de La Plata    106              16.0              74.0\n",
            "Total General                                        3701               NaN               NaN\n",
            "----------------------------------------------------------------------------------------------------\n",
            "\n",
            "General Roca\n",
            "                                                         Total  2° Sem. 2023 (%)  1° Sem. 2023 (%)\n",
            "Fisc. Fed. N° 1 de Neuquén                               622.0             122.0              39.0\n",
            "Fisc. Gral. ante la Cám. Fed. de Apel. de Gral. Roca     457.0               inf               inf\n",
            "Fisc. Fed. de Bariloche                                  316.0             -22.0               5.0\n",
            "Fisc. Fed. de Zapala                                     204.0             -21.0             -33.0\n",
            "Fisc. Fed. de Viedma                                     174.0              -9.0               5.0\n",
            "Fisc. Fed. N° 2 de Neuquén                               160.0              39.0              48.0\n",
            "Fisc. Fed. de Gral. Roca                                 143.0               inf               inf\n",
            "Fisc. Fed. de General Roca                                 0.0            -100.0            -100.0\n",
            "Fisc. Gral. ante la Cám. Fed. de Apel. de General Roca     0.0            -100.0            -100.0\n",
            "Total General                                           2076.0               NaN               NaN\n",
            "----------------------------------------------------------------------------------------------------\n",
            "\n",
            "Mendoza\n",
            "                                                   Total  2° Sem. 2023 (%)  1° Sem. 2023 (%)\n",
            "Fisc. Fed. de San Juan                              1418              30.0             119.0\n",
            "Fisc. Fed. Nº 1 de Mendoza                           763              38.0              11.0\n",
            "Fisc. Fed. Nº 2 de Mendoza                           738              44.0              61.0\n",
            "Fisc. Fed. de San Rafael                             334             127.0              66.0\n",
            "Fisc. Fed. de San Luis                               171             -15.0               0.0\n",
            "Fisc. Fed. de Villa Mercedes                         109              58.0              54.0\n",
            "Fisc. Gral. ante la Cám. Fed. de Apel. de Mendoza     38             -12.0             192.0\n",
            "Total General                                       3571               NaN               NaN\n",
            "----------------------------------------------------------------------------------------------------\n",
            "\n",
            "Resistencia\n",
            "                                                       Total  2° Sem. 2023 (%)  1° Sem. 2023 (%)\n",
            "Fisc. Fed. Nº 2 de Formosa                               156             -18.0             -48.0\n",
            "Fisc. Fed. de Reconquista                                 86             -32.0             -17.0\n",
            "Fisc. Fed. Nº 1 de Formosa                                57             -29.0             -37.0\n",
            "Fisc. Fed. de Roque Sáenz Peña                            39             -26.0             -37.0\n",
            "Fisc. Gral. ante la Cám. Fed. de Apel. de Resistencia     19              73.0              73.0\n",
            "Fisc. Fed. de Resistencia                                  2             -92.0               inf\n",
            "Total General                                            359               NaN               NaN\n",
            "----------------------------------------------------------------------------------------------------\n",
            "\n",
            "Posadas\n",
            "                                                              Total  2° Sem. 2023 (%)  1° Sem. 2023 (%)\n",
            "Fisc. Fed. Nº 2 de Posadas                                      183               1.0             -20.0\n",
            "Fisc. Fed. Nº 1 de Posadas                                      176              68.0             -54.0\n",
            "Fisc. Gral. en lo Civ. ante la Cám. Fed. de Apel. de Posadas    107               3.0              81.0\n",
            "Fisc. Fed. de Eldorado                                           70              -7.0             -24.0\n",
            "Fisc. Fed. de Oberá                                              37               0.0             -16.0\n",
            "Total General                                                   573               NaN               NaN\n",
            "----------------------------------------------------------------------------------------------------\n",
            "\n",
            "Paraná\n",
            "                                               Total  2° Sem. 2023 (%)  1° Sem. 2023 (%)\n",
            "Fisc. Fed. de Paraná                             409             259.0              22.0\n",
            "Fisc. Fed. de Concordia                          367               8.0               5.0\n",
            "Fisc. Fed. de Gualeguaychu                       361              -7.0             -12.0\n",
            "Fisc. Fed. de Concepción del Uruguay             326              -0.0              20.0\n",
            "Fisc. Fed. de Victoria                            59              16.0             111.0\n",
            "Fisc. Gral. ante la Cám. Fed. de Apel. Paraná     35             338.0            1067.0\n",
            "Total General                                   1557               NaN               NaN\n",
            "----------------------------------------------------------------------------------------------------\n",
            "\n",
            "Comodoro Rivadavia\n",
            "                                                               Total  2° Sem. 2023 (%)  1° Sem. 2023 (%)\n",
            "Fisc. Gral. ante la Cám. Fed. de Apel. de Cdo. Riv.            303.0               inf               inf\n",
            "Fisc. Fed. de Río Gallegos                                     265.0              71.0              26.0\n",
            "Fisc. Fed. de Ushuaia                                          265.0               3.0              45.0\n",
            "Fisc. Fed. de Cdo. Riv.                                        213.0               inf               inf\n",
            "Fisc. Fed. de Rawson                                           203.0             -28.0              49.0\n",
            "Fisc. Fed. de Caleta Olivia                                    184.0               8.0               1.0\n",
            "Fisc. Fed. de Río Grande                                       121.0              10.0              10.0\n",
            "Fisc. Fed. de Esquel                                           119.0              89.0             102.0\n",
            "Fisc. Fed. de Comodoro Rivadavia                                 0.0            -100.0            -100.0\n",
            "Fisc. Gral. ante la Cám. Fed. de Apel. de Comodoro Rivadavia     0.0            -100.0            -100.0\n",
            "Total General                                                 1673.0               NaN               NaN\n",
            "----------------------------------------------------------------------------------------------------\n",
            "\n",
            "Bahía Blanca\n",
            "                                                        Total  2° Sem. 2023 (%)  1° Sem. 2023 (%)\n",
            "Fisc. Fed. Nº 2 de Bahía Blanca                           538               6.0              42.0\n",
            "Fisc. Gral. ante la Cám. Fed. de Apel. de Bahía Blanca    480              12.0              76.0\n",
            "Fisc. Fed. Nº 1 de Bahía Blanca                           476             -11.0               3.0\n",
            "Fisc. Fed. de Santa Rosa                                  228               8.0             -11.0\n",
            "Total General                                            1722               NaN               NaN\n",
            "----------------------------------------------------------------------------------------------------\n",
            "\n",
            "Corrientes\n",
            "                                                      Total  2° Sem. 2023 (%)  1° Sem. 2023 (%)\n",
            "Fisc. Fed. Nº 1 de Corrientes                           292              60.0              32.0\n",
            "Fisc. Fed. de Paso de los Libres                         47              74.0              74.0\n",
            "Fisc. Fed. de Goya                                       40             111.0               3.0\n",
            "Fisc. Fed. Nº 2 de Corrientes                            39             105.0             225.0\n",
            "Fisc. Gral. ante la Cám. Fed. de Apel. de Corrientes      5             -17.0               inf\n",
            "Total General                                           423               NaN               NaN\n",
            "----------------------------------------------------------------------------------------------------\n",
            "\n",
            "Córdoba\n",
            "                                                   Total  2° Sem. 2023 (%)  1° Sem. 2023 (%)\n",
            "Fisc. Fed. Nº 1 de Córdoba                          1366              37.0              18.0\n",
            "Fisc. Fed. Nº 3 de Córdoba                           878               1.0              13.0\n",
            "Fisc. Fed. Nº 2 de Córdoba                           619              -8.0               8.0\n",
            "Fisc. Gral. ante la Cám. Fed. de Apel. de Córdoba    550              30.0              40.0\n",
            "Fisc. Fed. de Río Cuarto                             366              -2.0             -23.0\n",
            "Fisc. Fed. de Villa María                            133              10.0              -5.0\n",
            "Fisc. Fed. de La Rioja                               132             149.0              38.0\n",
            "Fisc. Fed. de San Francisco                          103             -34.0               5.0\n",
            "Fisc. Fed. de Bell Ville                              62             -23.0               5.0\n",
            "Total General                                       4209               NaN               NaN\n",
            "----------------------------------------------------------------------------------------------------\n",
            "\n",
            "San Martín\n",
            "                                                                      Total  2° Sem. 2023 (%)  1° Sem. 2023 (%)\n",
            "Fisc. Fed. Nº 1 en lo Civ. y Com. y en lo Cont. Admin. de San Martín   1858             -19.0              -6.0\n",
            "Fisc. Fed. de Campana                                                   611              45.0              57.0\n",
            "Fisc. Gral. ante la Cám. Fed. de Apel. de San Martín                    442              34.0              91.0\n",
            "Fisc. Fed. de Mercedes                                                  278              20.0              83.0\n",
            "Fisc. Fed. de Moreno                                                    256              38.0              43.0\n",
            "Total General                                                          3445               NaN               NaN\n",
            "----------------------------------------------------------------------------------------------------\n",
            "\n",
            "Salta\n",
            "                                                 Total  2° Sem. 2023 (%)  1° Sem. 2023 (%)\n",
            "Unidad Fiscal Salta                               1308              13.0               8.0\n",
            "Unidad Fiscal Jujuy                                347              -6.0               2.0\n",
            "Sede Fiscal Descent. Tartagal                      135              35.0               5.0\n",
            "Sede Fiscal Descent. San Ramón de la Nueva Orán    132              -4.0              63.0\n",
            "Total General                                     1922               NaN               NaN\n",
            "----------------------------------------------------------------------------------------------------\n",
            "\n",
            "Tucumán\n",
            "                                                    Total  2° Sem. 2023 (%)  1° Sem. 2023 (%)\n",
            "Fisc. Fed. Nº 1 de Tucumán                          455.0             142.0              52.0\n",
            "Fisc. Gral. ante la Cám. Fed. de Apel. de Tucumán   256.0              52.0             -22.0\n",
            "Fisc. Fed. N° 1 de Santiago del Estero              215.0              -9.0               0.0\n",
            "Fisc. Fed. Nº 2 de Tucumán                          186.0              19.0              55.0\n",
            "Fisc. Fed. N° 2 de Santiago del Estero              138.0             -13.0             -17.0\n",
            "Fisc. Fed. N° 2 de Catamarca                         94.0             203.0               inf\n",
            "Fisc. Fed. N° 1 de Catamarca                         73.0             812.0               inf\n",
            "Total General                                      1417.0               NaN               NaN\n",
            "----------------------------------------------------------------------------------------------------\n"
          ]
        }
      ]
    },
    {
      "cell_type": "markdown",
      "source": [
        "# Cantidad de vistas por fiscalias agrupadas por Fuero"
      ],
      "metadata": {
        "id": "vzfNN-5jztmU"
      }
    },
    {
      "cell_type": "code",
      "source": [
        "jurisdicciones_interior = df[df['Jurisdicción'] == 'CABA']\n",
        "fueros = jurisdicciones_interior['Fuero'].unique()\n",
        "\n",
        "for fuero in fueros:\n",
        "    all_semestres_data = df[df['Fuero'] == fuero].groupby(['Semestre','Dependencia'])['Vistas Ingresadas'].sum().reset_index()\n",
        "    pivot_table = all_semestres_data.pivot(index='Dependencia', columns='Semestre', values='Vistas Ingresadas').fillna(0)\n",
        "    name = f'{fuero}_vistas_ingresadas.xlsx'\n",
        "    print()\n",
        "    print(fuero + \" - AMBA\")\n",
        "    tabla(pivot_table,name)\n",
        "    print(\"-\"*100)"
      ],
      "metadata": {
        "colab": {
          "base_uri": "https://localhost:8080/"
        },
        "id": "ps-fxaKsxMqO",
        "outputId": "fa182663-2ee8-4f88-fecb-a92b4c022832"
      },
      "execution_count": 13,
      "outputs": [
        {
          "output_type": "stream",
          "name": "stdout",
          "text": [
            "\n",
            "Electoral - AMBA\n",
            "                                               Total  2° Sem. 2023 (%)  1° Sem. 2023 (%)\n",
            "Fisc. en lo Criminal y Correccional Fed. Nº 1   1080               1.0               5.0\n",
            "Total General                                   1080               NaN               NaN\n",
            "----------------------------------------------------------------------------------------------------\n",
            "\n",
            "Nac. de Trabajo - AMBA\n",
            "                                                    Total  2° Sem. 2023 (%)  1° Sem. 2023 (%)\n",
            "Fisc. Gral. ante la Cám. Nac. de Apel. del Trabajo   1284             -31.0             -10.0\n",
            "Fisc. Nac. del Trabajo Nº 4                          1223             -11.0             -12.0\n",
            "Fisc. Nac. del Trabajo Nº 3                          1179               4.0               7.0\n",
            "Fisc. Nac. del Trabajo Nº 1                          1090              -6.0              -0.0\n",
            "Fisc. Nac. del Trabajo Nº 8                           988              -3.0              -5.0\n",
            "Fisc. Nac. del Trabajo Nº 5                           905             -12.0              -9.0\n",
            "Fisc. Nac. del Trabajo Nº 2                           730             -19.0             -18.0\n",
            "Fisc. Nac. del Trabajo Nº 7                           599             -16.0             -17.0\n",
            "Fisc. Nac. del Trabajo Nº 6                           559              -5.0              -3.0\n",
            "Total General                                        8557               NaN               NaN\n",
            "----------------------------------------------------------------------------------------------------\n",
            "\n",
            "Nac. Civ. y Com. - AMBA\n",
            "                                                   Total  2° Sem. 2023 (%)  1° Sem. 2023 (%)\n",
            "Fisc. en lo Civ. y Com. Nº 1                        8965              -5.0              14.0\n",
            "Fisc. en lo Civ. y Com. Nº 3                        8899              -5.0              12.0\n",
            "Fisc. en lo Civ. y Com. Nº 2                        8197              -4.0              18.0\n",
            "Fisc. en lo Civ. y Com. Nº 4                        8119             -10.0               4.0\n",
            "Fisc. Gral. ante la Cám. Nac. de Apel. en lo Civ.   1827              20.0              55.0\n",
            "Fisc. Gral. ante la Cám. Nac. de Apel. en lo Com.   1560              13.0              18.0\n",
            "Total General                                      37567               NaN               NaN\n",
            "----------------------------------------------------------------------------------------------------\n",
            "\n",
            "Fed. Civ., Com. y Cont. Admin. - AMBA\n",
            "                                                                                          Total  2° Sem. 2023 (%)  1° Sem. 2023 (%)\n",
            "Fisc. en lo Civ. y Com. y Cont. Admin. Fed. Nº 6                                           7656              17.0              68.0\n",
            "Fisc. en lo Civ. y Com. y Cont. Admin. Fed. Nº 5                                           4887              10.0              29.0\n",
            "Fisc. Gral. ante las Cám. Nac. de Apel. en lo Civ. y Com. Fed. y en lo Cont. Admin. Fed.   3542              50.0              84.0\n",
            "Fisc. en lo Civ. y Com. y Cont. Admin. Fed. Nº 8                                           3156             -13.0              -5.0\n",
            "Fisc. en lo Civ. y Com. y Cont. Admin. Fed. Nº 7                                           3150             -11.0              -4.0\n",
            "Fisc. Fed. de Ejecución Tributaria                                                          120              11.0             -39.0\n",
            "Total General                                                                             22511               NaN               NaN\n",
            "----------------------------------------------------------------------------------------------------\n",
            "\n",
            "Fed. de la Seg. Social - AMBA\n",
            "                                                               Total  2° Sem. 2023 (%)  1° Sem. 2023 (%)\n",
            "Fisc. Fed. de la Seg. Social Nº 2                               5574               0.0             -16.0\n",
            "Fisc. Fed. de la Seg. Social Nº 1                               5346             -10.0             -24.0\n",
            "Fisc. Gral. Nº 1 ante la Cám. Fed. de Apel. de la Seg. Social    151              -3.0             -10.0\n",
            "Fisc. Gral. Nº 2 ante la Cám. Fed. de Apel. de la Seg. Social    141              13.0               4.0\n",
            "Total General                                                  11212               NaN               NaN\n",
            "----------------------------------------------------------------------------------------------------\n"
          ]
        }
      ]
    },
    {
      "cell_type": "markdown",
      "source": [
        "**Vistas Ingresadas por Instancia a nivel pais** -Pagina 41\n",
        "\n",
        "\n"
      ],
      "metadata": {
        "id": "VH7JLOqPnAvs"
      }
    },
    {
      "cell_type": "code",
      "source": [
        "all_semestres_data = df.groupby(['Instancia', 'Semestre'])['Vistas Ingresadas'].sum().reset_index()\n",
        "#print(all_semestres_data)\n",
        "\n",
        "pivot_table = all_semestres_data.pivot(index='Instancia', columns='Semestre', values='Vistas Ingresadas').fillna(0)\n",
        "\n",
        "tabla(pivot_table,'6_vistas_Instancia.xlsx')"
      ],
      "metadata": {
        "colab": {
          "base_uri": "https://localhost:8080/"
        },
        "id": "bObRuYvA5Cg8",
        "outputId": "6d8acac0-9f76-4601-d163-ac0f178301c2"
      },
      "execution_count": 17,
      "outputs": [
        {
          "output_type": "stream",
          "name": "stdout",
          "text": [
            "                Total  2° Sem. 2023 (%)  1° Sem. 2023 (%)\n",
            "1° Inst.       101898               1.0               8.0\n",
            "2° Inst.        11511              10.0              37.0\n",
            "Total General  113409               NaN               NaN\n"
          ]
        }
      ]
    },
    {
      "cell_type": "markdown",
      "source": [
        "**Vistas Ingresadas por Instancia en CABA - Pagina 42**"
      ],
      "metadata": {
        "id": "c9mP35FMn1Ok"
      }
    },
    {
      "cell_type": "code",
      "source": [
        "amba = df[df['Jurisdicción'] == 'CABA']\n",
        "\n",
        "all_semestres_data = amba.groupby(['Instancia', 'Semestre'])['Vistas Ingresadas'].sum().reset_index()\n",
        "#print(all_semestres_data)\n",
        "\n",
        "pivot_table = all_semestres_data.pivot(index='Instancia', columns='Semestre', values='Vistas Ingresadas').fillna(0)\n",
        "\n",
        "tabla(pivot_table,'7_vistas_Instancia_amba.xlsx')"
      ],
      "metadata": {
        "colab": {
          "base_uri": "https://localhost:8080/"
        },
        "id": "Yn5bfOi35jCW",
        "outputId": "de36443e-5fde-4c72-dae3-0943c7775cbb"
      },
      "execution_count": 19,
      "outputs": [
        {
          "output_type": "stream",
          "name": "stdout",
          "text": [
            "               Total  2° Sem. 2023 (%)  1° Sem. 2023 (%)\n",
            "1° Inst.       72422              -4.0               6.0\n",
            "2° Inst.        8505              15.0              38.0\n",
            "Total General  80927               NaN               NaN\n"
          ]
        }
      ]
    },
    {
      "cell_type": "markdown",
      "source": [
        "# **Vistas Ingresadas por Instancia en Interior - Pagina 43\n",
        "\n",
        "\n",
        "\n",
        "\n"
      ],
      "metadata": {
        "id": "RqY4Owts7wNq"
      }
    },
    {
      "cell_type": "code",
      "source": [
        "interior = df[df['Jurisdicción'] != 'CABA']\n",
        "\n",
        "all_semestres_data = interior.groupby(['Instancia', 'Semestre'])['Vistas Ingresadas'].sum().reset_index()\n",
        "#print(all_semestres_data)\n",
        "\n",
        "pivot_table = all_semestres_data.pivot(index='Instancia', columns='Semestre', values='Vistas Ingresadas').fillna(0)\n",
        "\n",
        "tabla(pivot_table,'8_vistas_Instancia_interior.xlsx')"
      ],
      "metadata": {
        "colab": {
          "base_uri": "https://localhost:8080/"
        },
        "id": "HhVrC9Sv7wm3",
        "outputId": "803f7877-25e7-4d40-ad6e-217e5c86704d"
      },
      "execution_count": 22,
      "outputs": [
        {
          "output_type": "stream",
          "name": "stdout",
          "text": [
            "               Total  2° Sem. 2023 (%)  1° Sem. 2023 (%)\n",
            "1° Inst.       29476              14.0              14.0\n",
            "2° Inst.        3006              -1.0              33.0\n",
            "Total General  32482               NaN               NaN\n"
          ]
        }
      ]
    },
    {
      "cell_type": "markdown",
      "source": [
        "**Vistas Ingresadas por materia a nivel pais - Pagina 44**"
      ],
      "metadata": {
        "id": "voP3_wqB_Gl4"
      }
    },
    {
      "cell_type": "code",
      "source": [
        "\n",
        "all_semestres_data = df.groupby(['Materia', 'Semestre'])['Vistas Ingresadas'].sum().reset_index()\n",
        "#print(all_semestres_data)\n",
        "\n",
        "pivot_table = all_semestres_data.pivot(index='Materia', columns='Semestre', values='Vistas Ingresadas').fillna(0)\n",
        "\n",
        "tabla(pivot_table,'9_vistas_Materia_pais.xlsx')"
      ],
      "metadata": {
        "colab": {
          "base_uri": "https://localhost:8080/"
        },
        "id": "YMUQVWub_PIv",
        "outputId": "fdfa612e-02fd-436e-8c9b-c56c90306a05"
      },
      "execution_count": 23,
      "outputs": [
        {
          "output_type": "stream",
          "name": "stdout",
          "text": [
            "                    Total  2° Sem. 2023 (%)  1° Sem. 2023 (%)\n",
            "Civ.                32255              -6.0              13.0\n",
            "ECiv. Fed.          28082               3.0              14.0\n",
            "Civ. y Com. Fed.    14708              27.0              60.0\n",
            "Seg. Social         11194              -5.0             -20.0\n",
            "Trabajo              8621             -12.0              -6.0\n",
            "Cont. Admin. Fed.    8122             -10.0               2.0\n",
            "Electoral Civ.       5426              89.0              18.0\n",
            "Com.                 4944               4.0              14.0\n",
            "Penal                  33             -55.0             -34.0\n",
            "Sin datos              23             -49.0             -18.0\n",
            "Electoral               1               0.0             -80.0\n",
            "Total General      113409               NaN               NaN\n"
          ]
        }
      ]
    },
    {
      "cell_type": "markdown",
      "source": [
        "# Dictamenes emitidos en el segundo semestre de 2024 - Pagina 50"
      ],
      "metadata": {
        "id": "AGElSLqrBeDW"
      }
    },
    {
      "cell_type": "code",
      "source": [],
      "metadata": {
        "id": "8Hnovi8QBbHR"
      },
      "execution_count": null,
      "outputs": []
    },
    {
      "cell_type": "code",
      "source": [
        "# Ejemplo de unificacion de dos archivos\n",
        "\n",
        "import pandas as pd\n",
        "\n",
        "# Define the filenames of the Excel files\n",
        "file1 = '/content/vistas_ingresadas_3_semestres.xlsx'\n",
        "file2 = '/content/vistas_por_instancia_caba.xlsx' # Replace with the actual path to your second file\n",
        "\n",
        "# Create an empty dictionary to store the dataframes\n",
        "dfs = {}\n",
        "\n",
        "# Read the first excel file and add it to the dictionary\n",
        "try:\n",
        "    dfs['vistas_ingresadas_3_semestres'] = pd.read_excel(file1, engine='openpyxl') # Assumes the first sheet is named 'Sheet1'\n",
        "except FileNotFoundError:\n",
        "    print(f\"Error: File '{file1}' not found.\")\n",
        "    # Handle the error appropriately, e.g. exit or use a default dataframe\n",
        "    exit()\n",
        "\n",
        "# Read the second excel file and add it to the dictionary\n",
        "try:\n",
        "  dfs['vistas_por_instancia_caba'] = pd.read_excel(file2, engine='openpyxl') # Assumes the first sheet is named 'Sheet2'\n",
        "except FileNotFoundError:\n",
        "  print(f\"Error: File '{file2}' not found.\")\n",
        "  #Handle the error\n",
        "  exit()\n",
        "except Exception as e: #Catch other potential errors during file reading\n",
        "  print(f\"An error occurred while reading {file2}: {e}\")\n",
        "  exit()\n",
        "\n",
        "\n",
        "# Create a Pandas ExcelWriter object\n",
        "with pd.ExcelWriter('combined_excel.xlsx', engine='openpyxl') as writer:\n",
        "    # Iterate through the dictionary and write each dataframe to a separate sheet\n",
        "    for sheet_name, df in dfs.items():\n",
        "        df.to_excel(writer, sheet_name=sheet_name, index=False)\n",
        "\n",
        "print(\"Combined Excel file 'combined_excel.xlsx' created successfully!\")"
      ],
      "metadata": {
        "colab": {
          "base_uri": "https://localhost:8080/"
        },
        "id": "wUgHk3_hs4IN",
        "outputId": "386077c8-41c8-4799-c606-85a8e2bab968"
      },
      "execution_count": 26,
      "outputs": [
        {
          "output_type": "stream",
          "name": "stdout",
          "text": [
            "Error: File '/content/vistas_ingresadas_3_semestres.xlsx' not found.\n",
            "Combined Excel file 'combined_excel.xlsx' created successfully!\n"
          ]
        }
      ]
    },
    {
      "cell_type": "markdown",
      "source": [
        "codigo para darle estilo a las hojas de calculo"
      ],
      "metadata": {
        "id": "ckL3e_hN2u7I"
      }
    },
    {
      "cell_type": "code",
      "source": [
        "from openpyxl import load_workbook\n",
        "from openpyxl.styles import Font, Alignment, Border, Side, PatternFill\n",
        "\n",
        "def aplicar_formato_excel(ruta_archivo):\n",
        "    # Abrir el archivo de Excel\n",
        "    wb = load_workbook(ruta_archivo)\n",
        "\n",
        "    # Definir estilos\n",
        "    header_font = Font(bold=True, color=\"FFFFFF\")\n",
        "    header_fill = PatternFill(start_color=\"4F81BD\", end_color=\"4F81BD\", fill_type=\"solid\")\n",
        "    border = Border(\n",
        "        left=Side(style=\"thin\"),\n",
        "        right=Side(style=\"thin\"),\n",
        "        top=Side(style=\"thin\"),\n",
        "        bottom=Side(style=\"thin\")\n",
        "    )\n",
        "    alignment = Alignment(horizontal=\"center\", vertical=\"center\", wrap_text=True)\n",
        "\n",
        "    # Iterar sobre cada hoja\n",
        "    for sheet in wb.sheetnames:\n",
        "        ws = wb[sheet]\n",
        "        if ws.max_row > 1 and ws.max_column > 1:  # Asegurarse de que hay datos\n",
        "            # Aplicar formato a la fila de encabezado\n",
        "            for col in range(1, ws.max_column + 1):\n",
        "                cell = ws.cell(row=1, column=col)\n",
        "                cell.font = header_font\n",
        "                cell.fill = header_fill\n",
        "                cell.alignment = alignment\n",
        "                cell.border = border\n",
        "\n",
        "            # Aplicar bordes y alineación al resto de las celdas\n",
        "            for row in range(2, ws.max_row + 1):\n",
        "                for col in range(1, ws.max_column + 1):\n",
        "                    cell = ws.cell(row=row, column=col)\n",
        "                    cell.alignment = alignment\n",
        "                    cell.border = border\n",
        "\n",
        "            # Ajustar el ancho de las columnas\n",
        "            for col in ws.columns:\n",
        "                max_length = 0\n",
        "                col_letter = col[0].column_letter\n",
        "                for cell in col:\n",
        "                    try:\n",
        "                        if cell.value:\n",
        "                            max_length = max(max_length, len(str(cell.value)))\n",
        "                    except:\n",
        "                        pass\n",
        "                ws.column_dimensions[col_letter].width = max_length + 2\n",
        "\n",
        "    # Guardar los cambios en un nuevo archivo\n",
        "    nuevo_archivo = \"archivo_formateado.xlsx\"\n",
        "    wb.save(nuevo_archivo)\n",
        "    print(f\"Archivo formateado guardado como {nuevo_archivo}\")\n",
        "\n",
        "# Ruta al archivo Excel original\n",
        "ruta_archivo = \"archivo.xlsx\"\n",
        "aplicar_formato_excel(ruta_archivo)\n"
      ],
      "metadata": {
        "id": "ZwTiWUT45XOW"
      },
      "execution_count": null,
      "outputs": []
    }
  ]
}